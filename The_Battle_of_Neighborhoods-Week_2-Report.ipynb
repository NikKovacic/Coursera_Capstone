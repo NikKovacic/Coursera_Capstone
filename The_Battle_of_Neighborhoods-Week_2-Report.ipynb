{
 "cells": [
  {
   "cell_type": "markdown",
   "metadata": {},
   "source": [
    "# The Battle of Neighborhoods - Finiding best accommondation in North York Toronto | Report"
   ]
  },
  {
   "cell_type": "markdown",
   "metadata": {},
   "source": [
    "## Introduction "
   ]
  },
  {
   "cell_type": "markdown",
   "metadata": {},
   "source": [
    "In this project we are exploring facilities around the neighborhoods in North York, Toronto. We are looking for neighborhoods where access to school, medical shops, mall, market, hospital, etc., is easier.\n",
    "\n",
    "The main goal is to find out which neighborhood in North York, Toronto offers us the easiest access to these facilities. And so, in my personal opinion, it is the most suitable for accommondation."
   ]
  },
  {
   "cell_type": "markdown",
   "metadata": {},
   "source": [
    "## Used data"
   ]
  },
  {
   "cell_type": "markdown",
   "metadata": {},
   "source": [
    "In this project we will use data we scraped from wikipedia on Week 3 (https://en.wikipedia.org/wiki/List_of_postal_codes_of_Canada:_M). Which consisting of postal codes, latitude and longitude. Also we will need data about facilities and venues in different neighborhoods of North York, Toronto. In order to gain that data we will use Forsquare API.\n",
    "\n",
    "After finding the list of all neighborhoods in specific borough (North York, Toronto), we will conect to Foursquare API to collect information about facilities inside each of the neighborhood. For each neighborhood we have chosen the radius of 100 meter.\n"
   ]
  },
  {
   "cell_type": "markdown",
   "metadata": {},
   "source": [
    "## Methodology "
   ]
  },
  {
   "cell_type": "markdown",
   "metadata": {},
   "source": [
    "We use Clustering Approach to group similarities between New York neighborhoods and Toronto neighborhoods. For this purpose we use k-means clustering. We also show the 10 nerest venues in the neighborhoods of North York, Toronto. Then we compere average house prices between neighborhoods in North York and compare theirs school based on school ratings."
   ]
  },
  {
   "cell_type": "markdown",
   "metadata": {},
   "source": [
    "## Results "
   ]
  },
  {
   "cell_type": "markdown",
   "metadata": {},
   "source": [
    "#### Clusters in North York, Toronto"
   ]
  },
  {
   "cell_type": "markdown",
   "metadata": {},
   "source": [
    "![alt text](clusteringSimilar.png \"Title\")"
   ]
  },
  {
   "cell_type": "markdown",
   "metadata": {},
   "source": [
    "#### Nerest venues in neighborhoods of North York, Toronto "
   ]
  },
  {
   "cell_type": "markdown",
   "metadata": {},
   "source": [
    "![alt text](MostCommonVenues31.png \"Title\")"
   ]
  },
  {
   "cell_type": "markdown",
   "metadata": {},
   "source": [
    "![alt text](NerestVenuesEnd.png \"Title\")"
   ]
  },
  {
   "cell_type": "markdown",
   "metadata": {},
   "source": [
    "#### Average housing price in North York, Toronto"
   ]
  },
  {
   "cell_type": "markdown",
   "metadata": {},
   "source": [
    "![alt text](AvrPriceNeig.png \"Title\")"
   ]
  },
  {
   "cell_type": "markdown",
   "metadata": {},
   "source": [
    "#### Average school rating in North York, Toronto"
   ]
  },
  {
   "cell_type": "markdown",
   "metadata": {},
   "source": [
    "![alt text](averageSchoolRating.png \"Title\")"
   ]
  },
  {
   "cell_type": "markdown",
   "metadata": {},
   "source": [
    "## Discusion"
   ]
  },
  {
   "cell_type": "markdown",
   "metadata": {},
   "source": [
    "For location of our acommondation we want to find good neighborhood in the North York, Toronto where we have near the park, restaurants, playground and cafes. Also we want that this location is afordable and that it has schools with good rating not far from there.\n",
    "We can se that some neighborhods are more pricey and don't offer all that we want."
   ]
  },
  {
   "cell_type": "markdown",
   "metadata": {},
   "source": [
    "## Conclusion"
   ]
  },
  {
   "cell_type": "markdown",
   "metadata": {},
   "source": [
    "On my opinon best best choice of neighborhood for apartment in North York is Humberlea/Emery. I think so because the the school rating is above the average (not the best, not the worst), the average price is acceptable and there are on my opinion best combination of venues nerby. Which includes coffe shops, playground, park and different restaurants."
   ]
  }
 ],
 "metadata": {
  "kernelspec": {
   "display_name": "Python 3",
   "language": "python",
   "name": "python3"
  },
  "language_info": {
   "codemirror_mode": {
    "name": "ipython",
    "version": 3
   },
   "file_extension": ".py",
   "mimetype": "text/x-python",
   "name": "python",
   "nbconvert_exporter": "python",
   "pygments_lexer": "ipython3",
   "version": "3.6.5"
  }
 },
 "nbformat": 4,
 "nbformat_minor": 2
}
