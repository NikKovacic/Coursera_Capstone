{
 "cells": [
  {
   "cell_type": "markdown",
   "metadata": {},
   "source": [
    "# Peer-graded Assignment: Capstone Project - The Battle of Neighborhoods (Week 1)"
   ]
  },
  {
   "cell_type": "markdown",
   "metadata": {},
   "source": [
    " "
   ]
  },
  {
   "cell_type": "markdown",
   "metadata": {},
   "source": [
    "## Problem introduction: "
   ]
  },
  {
   "cell_type": "markdown",
   "metadata": {},
   "source": [
    "In this project we are exploring facilities around the neighborhoods in North York, Toronto. We are looking for neighborhoods where access to school, medical shops, mall, market, hospital, etc., is easier.\n",
    "\n",
    "The main goal is to find out which neighborhood in North York, Toronto offers us the easiest access to these facilities. And so, in my personal opinion, it is the most suitable for accommondation."
   ]
  },
  {
   "cell_type": "markdown",
   "metadata": {},
   "source": [
    " "
   ]
  },
  {
   "cell_type": "markdown",
   "metadata": {},
   "source": [
    "## Data Description"
   ]
  },
  {
   "cell_type": "markdown",
   "metadata": {},
   "source": [
    "In this project we will use data we scraped from wikipedia on Week 3 (https://en.wikipedia.org/wiki/List_of_postal_codes_of_Canada:_M). Which consisting of postal codes, latitude and longitude. Also we will need data about facilities and venues in different neighborhoods of North York, Toronto. In order to gain that data we will use Forsquare API. \n",
    "\n",
    "After finding the list of all neighborhoods in specific borough (North York, Toronto), we will conect to Foursquare API to collect information about facilities inside each of the neighborhood. For each neighborhood we have chosen the radius of 100 meter."
   ]
  },
  {
   "cell_type": "markdown",
   "metadata": {},
   "source": [
    " "
   ]
  }
 ],
 "metadata": {
  "kernelspec": {
   "display_name": "Python 3",
   "language": "python",
   "name": "python3"
  },
  "language_info": {
   "codemirror_mode": {
    "name": "ipython",
    "version": 3
   },
   "file_extension": ".py",
   "mimetype": "text/x-python",
   "name": "python",
   "nbconvert_exporter": "python",
   "pygments_lexer": "ipython3",
   "version": "3.6.5"
  }
 },
 "nbformat": 4,
 "nbformat_minor": 2
}
